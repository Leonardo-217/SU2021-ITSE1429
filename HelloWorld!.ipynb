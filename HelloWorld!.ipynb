{
  "nbformat": 4,
  "nbformat_minor": 0,
  "metadata": {
    "colab": {
      "name": "HelloWorld!.ipynb",
      "provenance": [],
      "authorship_tag": "ABX9TyMglb3oE2mJsfU+yNDz63W0",
      "include_colab_link": true
    },
    "kernelspec": {
      "name": "python3",
      "display_name": "Python 3"
    },
    "language_info": {
      "name": "python"
    }
  },
  "cells": [
    {
      "cell_type": "markdown",
      "metadata": {
        "id": "view-in-github",
        "colab_type": "text"
      },
      "source": [
        "<a href=\"https://colab.research.google.com/github/Leonardo-217/SU2021-ITSE1429/blob/main/HelloWorld!.ipynb\" target=\"_parent\"><img src=\"https://colab.research.google.com/assets/colab-badge.svg\" alt=\"Open In Colab\"/></a>"
      ]
    },
    {
      "cell_type": "code",
      "metadata": {
        "colab": {
          "base_uri": "https://localhost:8080/"
        },
        "id": "AHa8lKoBhaOp",
        "outputId": "7f2e0516-1844-4bf9-c1a1-00d9eb4051e6"
      },
      "source": [
        "print(\"Hello World!\")\n",
        "print(\"My name is Edgar and I'm coding in Python!\")\n",
        "Value = input(\"What's your name?\")\n",
        "print(f\"Hi there {Value}, nice to meet you!\")"
      ],
      "execution_count": 1,
      "outputs": [
        {
          "output_type": "stream",
          "text": [
            "Hello World!\n",
            "My name is Edgar and I'm coding in Python!\n",
            "What's your name?Leo\n",
            "Hi there Leo, nice to meet you!\n"
          ],
          "name": "stdout"
        }
      ]
    }
  ]
}